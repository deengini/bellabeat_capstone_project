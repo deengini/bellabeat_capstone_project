{
 "cells": [
  {
   "cell_type": "markdown",
   "id": "c2dbc551-d168-492f-adf5-5a43c5ff72b3",
   "metadata": {
    "tags": []
   },
   "source": [
    "# **<center>Project Bellabeat: How Can A Wellness Technology Company Play It Smart?</center>**\n",
    "\n",
    "<img align = \"center\" src = \"http://appletechtalk.com/wp-content/uploads/2022/07/Bellabeat-logo.jpg\">\n",
    "\n",
    "## **<center>Dubem Ngini</center>**\n",
    "### **<center>March 12, 2023</center>**\n"
   ]
  },
  {
   "cell_type": "markdown",
   "id": "e1b5b221-8c2a-4787-bc94-4d5ec709b0df",
   "metadata": {
    "tags": []
   },
   "source": [
    "This report is based on a capstone project from the **[Google Data Analytics Project](https://www.coursera.org/learn/google-data-analytics-capstone/supplement/ZsmDD/case-study-2-how-can-a-wellness-company-play-it-smart)** on Coursera which is also posted on **[GitHub](https://github.com/deengini/bellabeat_capstone_project)**. \n",
    "\n",
    "The goal of this project is to provide insights to Bellabeat using the six stages of Data Analytics in the Google course: Ask, Prepare, Process, Analyze, Share, and Act. "
   ]
  },
  {
   "cell_type": "markdown",
   "id": "76444207-29f8-4620-8452-e46d91da9191",
   "metadata": {
    "tags": []
   },
   "source": [
    "## **Step 1: ASK**\n",
    "The goal of this stage is to identify the business task and consider the key stakeholders. "
   ]
  },
  {
   "cell_type": "markdown",
   "id": "1cc96348-c532-4dcd-9299-e928a7d3f266",
   "metadata": {},
   "source": [
    "### **1.1 Background**\n",
    "\n",
    "**[Bellabeat](https://bellabeat.com/)** is a femtech health company founded by Urška Sršen and Sando Mur in 2013 which manufactures health-focused smart products. \n",
    "\n",
    "Co-founder and Chief creative Officer, Sršen springboarded the company by utilizing her art background to develop beautifully designed technology that informs and inspires women around the world to be more proactive about their health and habits.\n",
    "\n",
    "As at 2016, Bellabeat had opened offices around the world and launched multiple products such as:\n",
    "\n",
    "* **[Bellabeat app](https://play.google.com/store/apps/details?id=com.bellabeat.cacao&hl=en&gl=US&pli=1)** an app monitors health data and menstrual cycles by syncing with other Bellabeat smart products.\n",
    "\n",
    "* **[Leaf](https://bellabeat.com/shop/)** a wellness tracker that can be worn as a bracelet, necklace or clip and is used to track sleep and stress. \n",
    "\n",
    "* **[Time](https://bellabeat.com/shop/)** a watch device that connects to the Bellabeat app and tracks activity, sleep and stress.\n",
    "\n",
    "* **[Spring](https://bellabeat.com/shop/)** a water bottle that connects to the Bellabeat app and tracks daily water intake to make sure that customers stay hydrated during the day.\n",
    "\n",
    "Bellabeat invests year-round in Google Search, Youtube ads, maintaining active [Facebook](https://web.facebook.com/bellabeat/?_rdc=1&_rdr) and [Instagram](https://www.instagram.com/bellabeat/?hl=en) pages, and consistently engages consumers on [Twitter](https://twitter.com/GetBellaBeat) in order to stay updated on current marketing trends. \n",
    "\n",
    "Here is an example of a promotional campaign by Bellabeat for **[International Women's Day](https://www.youtube.com/watch?v=D_LXAydFIw0&ab_channel=BellabeatWellness)**\n",
    "\n",
    "However, Urška Sršen believes that Bellabeat can be doing more to extend their growth and she believes that the best way to do this is by analyzing customer from similar products (i.e. Fitbit). "
   ]
  },
  {
   "cell_type": "markdown",
   "id": "5edc50d6-5c59-45f9-90b2-4924f906cbdd",
   "metadata": {},
   "source": [
    "### **1.2 Business Task**\n",
    "\n",
    "Analyze data from Fitbit fitness tracker to provide insights on how customers are using this app. Then taking the insights from this analysis provide recommendations on how to improve Bellabeat marketing strategy."
   ]
  },
  {
   "cell_type": "markdown",
   "id": "3af32a1e-4baf-4d23-ad42-c69343f345b0",
   "metadata": {},
   "source": [
    "### **1.3 Key Stakeholders**\n",
    "\n",
    "* Urška Sršen: Bellabeat’s cofounder and Chief Creative Oﬃcer\n",
    "\n",
    "* Sando Mur: Mathematician and Bellabeat’s cofounder; key member of the Bellabeat executive team\n",
    "\n",
    "* Bellabeat marketing analytics team: A team of data analysts responsible for collecting, analyzing, and reporting data that helps guide Bellabeat’s marketing strategy.\n"
   ]
  },
  {
   "cell_type": "markdown",
   "id": "16c9d8d4-4ff5-40dd-b3d7-812fa89b400a",
   "metadata": {
    "jp-MarkdownHeadingCollapsed": true,
    "tags": []
   },
   "source": [
    "### **1.4 Deliverables**\n",
    "\n",
    "The Bellabeat team expects the following deliverables: \n",
    "\n",
    "* A clear summary of the business task.\n",
    "\n",
    "* A description of all data sources used.\n",
    "\n",
    "* A comprehensive documentation of any cleaning or manipulation of data.\n",
    "\n",
    "* A summary of your analysis.\n",
    "\n",
    "* Supporting visualizations and key ﬁndings.\n",
    "\n",
    "* A list of recommendations based on your analysis."
   ]
  },
  {
   "cell_type": "markdown",
   "id": "f85983d3-f9fa-4ef9-8062-f45b36184498",
   "metadata": {
    "tags": []
   },
   "source": [
    "## **Step 2: PREPARE**\n",
    "\n",
    "The goal of this stage is to present information about the data being used and acknowledge its limitations. "
   ]
  },
  {
   "cell_type": "markdown",
   "id": "4d99f57f-59e3-4bde-8b56-63792bc07662",
   "metadata": {},
   "source": [
    "### **2.1 Data Source & Format**\n",
    "\n",
    "* The data used for this project is publicly available on [Kaggle: FitBit: Fitness Tracker Data](https://www.kaggle.com/datasets/arashnic/fitbit) and stored in 18 csv files as long format. \n",
    "\n",
    "* Personal fitness data was generated from a survey of 30 FitBit users via Amazon Mechanical Turk from 12 March 2016 to 12 May 2016. \n",
    "\n",
    "* The data included duration of physical activity (in minutes), daily activity, calories spent, steps and distance covered. "
   ]
  },
  {
   "cell_type": "markdown",
   "id": "7e626e69-7a5e-4614-9490-6f849c5b15b9",
   "metadata": {},
   "source": [
    "### **2.2 Is Data ROCCC?**\n",
    "\n",
    "Data credibility and bias is judged by the ROCCC criteria which stands for Reliable, Original, Comprehensive, Current, and Cited \n",
    "\n",
    "* Reliable: **LOW** because it has a small sample size of only 30 participants. \n",
    "\n",
    "* Original: **LOW** because it was collected by a third-party provider (Amazon Mechanical Turk). \n",
    "\n",
    "* Comprehensive: **MEDIUM** because most of the parameters of the data line up with the parameters of Bellabeat products.\n",
    "\n",
    "* Current: **LOW** because the data is 7 years old and exercise habits and requirements may have changed since then.\n",
    "\n",
    "* Cited: **LOW** because the data was collected from a third party and the original source is unknown. \n"
   ]
  },
  {
   "cell_type": "markdown",
   "id": "49181332-0425-4f49-aa10-4606baa40045",
   "metadata": {},
   "source": [
    "### **2.3 Limitations of the data**\n",
    "\n",
    "* The sample size of the data is so small (30) that it cannot be used as an adequate representation of the fitness population. \n",
    "\n",
    "* The data is more than 7 years old and so might be irrelevant or outdated."
   ]
  },
  {
   "cell_type": "markdown",
   "id": "f46e698a-f32a-45bc-8501-4e39181b3971",
   "metadata": {},
   "source": [
    "### **2.4 Data Selection**\n",
    "\n",
    "The data selected for analysis is the daily_activity_merged.csv file"
   ]
  },
  {
   "cell_type": "markdown",
   "id": "6bb9a7d4-09c7-4585-9f11-a7dae30afb83",
   "metadata": {
    "tags": []
   },
   "source": [
    "## **Step 3: PROCESS**\n",
    "\n",
    "The goal of this stage is to make sure that the data is error-free, complete, relevant and ready for analysis. "
   ]
  },
  {
   "cell_type": "markdown",
   "id": "d5f70b47-21d4-4724-8180-b8389273a98e",
   "metadata": {},
   "source": [
    "### **3.1 Tools**\n",
    "\n",
    "R programming language will be used for data cleaning, transformation, and visualization. \n"
   ]
  },
  {
   "cell_type": "markdown",
   "id": "83bffbd9-741d-4f24-9dc6-b47be99554d9",
   "metadata": {},
   "source": [
    "### **3.2 Preparing the environment**\n",
    "\n",
    "The following R libraries were installed and loaded for easy use. "
   ]
  },
  {
   "cell_type": "code",
   "execution_count": null,
   "id": "19fb483f-e96f-40d4-82fb-78e5cbe0a92f",
   "metadata": {},
   "outputs": [],
   "source": [
    "# install and load packages \n",
    "install.packages(\"tidyverse\")\n",
    "install.packages(\"skimr\")\n",
    "install.packages(\"janitor\")\n",
    "\n",
    "library(tidyverse)\n",
    "library(skimr)\n",
    "library(janitor)\n",
    "library(dplyr)\n",
    "library(lubridate)"
   ]
  },
  {
   "cell_type": "markdown",
   "id": "05ba3800-8b14-4887-a4fb-1deff373ac1d",
   "metadata": {},
   "source": [
    "### **3.3 Importing the dataset**\n",
    "\n",
    "Reading in the daily activity dataset as a csv file."
   ]
  },
  {
   "cell_type": "code",
   "execution_count": null,
   "id": "69c2afdf-71f7-4a10-83a2-a61990c958b9",
   "metadata": {},
   "outputs": [],
   "source": [
    "# import daily activity data\n",
    "activity_df <- read_csv(\"daily_activity_merged.csv\")"
   ]
  },
  {
   "cell_type": "markdown",
   "id": "69e4d9bb-2077-4833-9f5e-cc1c97eec7f6",
   "metadata": {},
   "source": [
    "### **3.4 Data cleaning and formatting**\n"
   ]
  },
  {
   "cell_type": "markdown",
   "id": "b4fb1073-2a0e-42df-98e3-817cec024b2f",
   "metadata": {},
   "source": [
    "#### 3.4.1 Preview the dataset\n",
    "\n",
    "First, preview the first 10 rows of the dataset. "
   ]
  },
  {
   "cell_type": "code",
   "execution_count": null,
   "id": "5616779e-ad66-4ee9-93bd-fd885bd6f45a",
   "metadata": {},
   "outputs": [],
   "source": [
    "# preview dataset \n",
    "head(activity_df)"
   ]
  },
  {
   "cell_type": "markdown",
   "id": "08cc5e56-6648-44e1-8a61-771143da033b",
   "metadata": {},
   "source": [
    "#### 3.4.2 Check for missing values\n",
    "\n",
    "Then, we can check for missing values "
   ]
  },
  {
   "cell_type": "code",
   "execution_count": null,
   "id": "12409012-71af-4ea3-bd0f-f3ee52527466",
   "metadata": {},
   "outputs": [],
   "source": [
    "# check for missing data \n",
    "missing_data <-is.na(activity_df)\n",
    "\n",
    "# count the number of missing values in each column \n",
    "num_null <- apply(missing_data, 2, sum)\n",
    "print(num_null)"
   ]
  },
  {
   "cell_type": "markdown",
   "id": "1b4d7a83-a7cb-48ff-bb17-d4a93753ecf7",
   "metadata": {},
   "source": [
    "From the results, we can see that there are no missing values."
   ]
  },
  {
   "cell_type": "markdown",
   "id": "8140100c-1eea-4653-afa8-2f06ec9b3c11",
   "metadata": {},
   "source": [
    "#### 3.4.3 Create a column for total mins and then convert it to hours "
   ]
  },
  {
   "cell_type": "code",
   "execution_count": null,
   "id": "6098f5bf-1c44-46cc-a337-7c82963c0dd9",
   "metadata": {},
   "outputs": [],
   "source": [
    "# Create columns for total time spent in minutes and then hours\n",
    "activity_df2 <- activity_df %>%\n",
    "  mutate(total_mins = VeryActiveMinutes + FairlyActiveMinutes + LightlyActiveMinutes + SedentaryMinutes) %>% \n",
    "  mutate(total_hours = total_mins/60)"
   ]
  },
  {
   "cell_type": "markdown",
   "id": "94b8d6e7-dc41-4d7e-819b-118f1fa46743",
   "metadata": {},
   "source": [
    "#### 3.4.4 Change the datatype of the columns \n",
    "\n",
    "We can check the data type of the columns"
   ]
  },
  {
   "cell_type": "code",
   "execution_count": null,
   "id": "7f9ead42-8210-4f3b-a0ed-30612d7d42e9",
   "metadata": {},
   "outputs": [],
   "source": [
    "# check datatype of columns \n",
    "str(activity_df2)"
   ]
  },
  {
   "cell_type": "markdown",
   "id": "a14357db-8902-4c26-aecf-238389a3c012",
   "metadata": {},
   "source": [
    "The column activity date is listed as character type, so we have to change it to date type. "
   ]
  },
  {
   "cell_type": "code",
   "execution_count": null,
   "id": "ec74afa6-b6ce-4766-a8d8-c9c632407c1a",
   "metadata": {},
   "outputs": [],
   "source": [
    "# change datatype of activity date column from str to date type \n",
    "activity_df2$ActivityDate <- as.Date(activity_df2$ActivityDate, format = \"%m/%d/%Y\")"
   ]
  },
  {
   "cell_type": "code",
   "execution_count": null,
   "id": "04a0a5ec-6318-4a93-a1f0-9761886491ff",
   "metadata": {},
   "outputs": [],
   "source": [
    "# Check again for datatype of the columns \n",
    "\n",
    "str(activity_df2)"
   ]
  },
  {
   "cell_type": "markdown",
   "id": "6bdbb868-ed92-457a-a5b9-6a7fa580223a",
   "metadata": {},
   "source": [
    "We can see that it works!"
   ]
  },
  {
   "cell_type": "markdown",
   "id": "a1103f4d-6412-4dc6-96c3-00a49288998c",
   "metadata": {
    "tags": []
   },
   "source": [
    "#### 3.4.5 Extract months and days from activity date into seperate columns\n",
    "\n",
    "For further analysis, we may want to isolate days and months from our date column.  "
   ]
  },
  {
   "cell_type": "code",
   "execution_count": null,
   "id": "715f312c-4495-4db9-a5ae-1527f02520d3",
   "metadata": {},
   "outputs": [],
   "source": [
    "# extract month from date column as activity months\n",
    "activity_df3 <- activity_df2 %>%\n",
    "  mutate(activity_days = weekdays(ActivityDate)) %>% \n",
    "  mutate(activity_months = month(ActivityDate))"
   ]
  },
  {
   "cell_type": "markdown",
   "id": "9f9583ce-c734-4ef9-af29-a47c06e0850f",
   "metadata": {},
   "source": [
    "Let's see the new columns "
   ]
  },
  {
   "cell_type": "code",
   "execution_count": null,
   "id": "57f61e46-242e-4245-8b43-cc1ec1f4bcf9",
   "metadata": {},
   "outputs": [],
   "source": [
    "# previewing new columns \n",
    "head(activity_df3)"
   ]
  },
  {
   "cell_type": "markdown",
   "id": "d9a93465-8be3-4362-873b-4ea41f9d1975",
   "metadata": {},
   "source": [
    "We can notice that the month column is in numbers let's convert it to month names instead."
   ]
  },
  {
   "cell_type": "code",
   "execution_count": null,
   "id": "bad178ae-c166-46fd-890b-dfa14c96e9c5",
   "metadata": {},
   "outputs": [],
   "source": [
    "# convert month to month names\n",
    "activity_df3$activity_months <- month.name[activity_df3$activity_months]"
   ]
  },
  {
   "cell_type": "markdown",
   "id": "3d7df970-218a-44e9-94bb-b563798b2db6",
   "metadata": {},
   "source": [
    "Let's look at the data now. "
   ]
  },
  {
   "cell_type": "code",
   "execution_count": null,
   "id": "7f474145-05bc-4419-a47c-d869e3c1950c",
   "metadata": {},
   "outputs": [],
   "source": [
    "# previewing new columns \n",
    "head(activity_df3)"
   ]
  },
  {
   "cell_type": "markdown",
   "id": "445e82ed-4cce-4f67-8d90-e242ba9a066a",
   "metadata": {},
   "source": [
    "Perfect, now the months all have names. "
   ]
  },
  {
   "cell_type": "markdown",
   "id": "7bc9cbba-cf11-4494-884a-3baf34892651",
   "metadata": {},
   "source": [
    "#### 3.4.6 Rearrange the order of columns in the dataset"
   ]
  },
  {
   "cell_type": "markdown",
   "id": "ca4c77d5-9581-42e0-a3b1-6716d5e81cdb",
   "metadata": {},
   "source": [
    "We can rearrange the columns in the dataset:"
   ]
  },
  {
   "cell_type": "code",
   "execution_count": null,
   "id": "92a19881-c0e7-422b-9d46-1e19e967bc0c",
   "metadata": {},
   "outputs": [],
   "source": [
    "# rearrange the columns of the dataset\n",
    "activity_df4 <- select(activity_df3, \"Id\", \"ActivityDate\", \"activity_months\", \"activity_days\", \"TotalSteps\", \"TotalDistance\", \"TrackerDistance\", \"LoggedActivitiesDistance\", \"VeryActiveDistance\",\n",
    "                       \"ModeratelyActiveDistance\", \"LightActiveDistance\", \"SedentaryActiveDistance\", \"VeryActiveMinutes\", \"FairlyActiveMinutes\", \n",
    "                       \"LightlyActiveMinutes\", \"SedentaryMinutes\", \"total_mins\", \"total_hours\", \"Calories\")"
   ]
  },
  {
   "cell_type": "markdown",
   "id": "0f0aa820-a3e8-4927-b974-92a2c92d7cea",
   "metadata": {},
   "source": [
    "#### 3.4.7 Rename the columns in the dataset\n",
    "\n",
    "Notice that the names in the dataset do not follow typical R naming conventions so we can rename them "
   ]
  },
  {
   "cell_type": "code",
   "execution_count": null,
   "id": "04275154-3f53-44ac-b738-ef3ad28a2762",
   "metadata": {},
   "outputs": [],
   "source": [
    "# rename all the columns in the dataset\n",
    "#check the names\n",
    "names(activity_df4)\n",
    "\n",
    "# rename with dplyr\n",
    "activity_df5 <- rename(activity_df4, \"id\" = \"Id\", \"date\" = \"ActivityDate\", \"months\" = \"activity_months\", \"week_days\" = \"activity_days\", \"total_steps\" = \"TotalSteps\", \n",
    "                      \"total_dist\" = \"TotalDistance\", \"track_dist\" = \"TrackerDistance\", \"logged_dist\" = \"LoggedActivitiesDistance\", \"very_active_dist\" = \"VeryActiveDistance\",\n",
    "                      \"moderate_active_dist\" = \"ModeratelyActiveDistance\", \"light_active_dist\" = \"LightActiveDistance\", \n",
    "                      \"sedentary_active_dist\" = \"SedentaryActiveDistance\", \"very_active_mins\" = \"VeryActiveMinutes\", \n",
    "                      \"fairly_active_mins\" = \"FairlyActiveMinutes\", \"lightly_active_mins\" = \"LightlyActiveMinutes\", \n",
    "                      \"sedentary_mins\" = \"SedentaryMinutes\", \"total_mins\" = \"total_mins\", \n",
    "                      \"total_hours\" = \"total_hours\", \"calories\" = \"Calories\")"
   ]
  },
  {
   "cell_type": "code",
   "execution_count": null,
   "id": "bbc77a50-ffc6-451a-b2f2-d51a44448f9a",
   "metadata": {},
   "outputs": [],
   "source": [
    "# make sure sure the column names are all unique and consistent\n",
    "activity_df6 <- clean_names(activity_df5)"
   ]
  },
  {
   "cell_type": "code",
   "execution_count": null,
   "id": "4862fba6-b838-433d-a336-e2ca1b2e722c",
   "metadata": {},
   "outputs": [],
   "source": [
    "# check the names of the columns again \n",
    "head(activity_df6)"
   ]
  },
  {
   "cell_type": "markdown",
   "id": "e2daf8e8-a0a6-4bae-a59b-c69c76e42b9d",
   "metadata": {},
   "source": [
    "#### 3.4.8 Validate number of participants \n",
    "\n",
    "The number of participants should be 30 and we can cross-check that by looking at the number of ids we have "
   ]
  },
  {
   "cell_type": "code",
   "execution_count": null,
   "id": "fcef8df0-30e0-4941-94d3-35bb26f45e6d",
   "metadata": {},
   "outputs": [],
   "source": [
    "# check for number of unique ids \n",
    "length(unique(activity_df6$id))"
   ]
  },
  {
   "cell_type": "markdown",
   "id": "a28c8e6f-3f2f-44f8-afed-98490d681ee8",
   "metadata": {},
   "source": [
    "The number of participants is 33!"
   ]
  },
  {
   "cell_type": "markdown",
   "id": "e24112c2-c909-4dc0-a5a9-8cefcd713872",
   "metadata": {},
   "source": [
    "### **3.5 Observations**\n",
    "\n",
    "The data is now ready for analysis but before that, here are some quick observations about the data: \n",
    "\n",
    "* The data has 15 columns and 940 rows with no missing or null values. \n",
    "\n",
    "* There are 33 unique IDs instead of 30. While this does not change the number of participants, it means that our data may be skewed erroneously. \n",
    "\n",
    "* There is no info on age or gender so we might not be able to tell how different age groups might use FitBit products."
   ]
  },
  {
   "cell_type": "code",
   "execution_count": null,
   "id": "b419ab46-8b1b-4d85-8905-09f33e781614",
   "metadata": {},
   "outputs": [],
   "source": [
    "### **Export and Save Cleaned Data\n",
    "\n",
    "After cleaning and validating the data, it is important to export it as a csv file \n",
    "write.csv(activity_df6, \"cleaned_data.csv\", row.names = FALSE)"
   ]
  },
  {
   "cell_type": "markdown",
   "id": "a7fd456a-1dc0-4433-8928-d4f723e9e956",
   "metadata": {
    "tags": []
   },
   "source": [
    "## **Step 4: ANALYZE**\n",
    "\n",
    "The goal of this stage is to identify trends and relationships in the data from summary statistics. \n"
   ]
  },
  {
   "cell_type": "markdown",
   "id": "c0a37ae0-a700-4b42-af45-1423a1d3443d",
   "metadata": {},
   "source": [
    "### 4.1 **Perform Calculations**\n",
    "\n",
    "In order to draw preliminary insights into the data, there are certain statistics that are needed: \n",
    "\n",
    "* Min and Max values\n",
    "\n",
    "* Mean\n",
    "\n",
    "* Median \n",
    "\n",
    "* 1st Quartile \n",
    "\n",
    "* 3rd Quartile"
   ]
  },
  {
   "cell_type": "code",
   "execution_count": null,
   "id": "ea3600c3-4115-404f-8cb3-19c497887fd0",
   "metadata": {},
   "outputs": [],
   "source": [
    "# find summary statistics of the data\n",
    "activity_summary <- data.frame(summary(activity_df6))\n",
    "activity_summary"
   ]
  },
  {
   "cell_type": "markdown",
   "id": "6ab4b926-f887-448e-8490-74334fe14200",
   "metadata": {},
   "source": [
    "**Interpreting these findings:**\n",
    "\n",
    "**Steps:** The average total steps accumulated on the fitbit app was 7638. A study published in **[The Lancet](https://www.thelancet.com/action/showPdf?pii=S2468-2667%2821%2900302-9)** stated that individuals who walked an average of 6000 to 10,000 steps were less likely to face health issues, regardless of gender or age. In fact, their health issues were cut by half. However, it is difficult  to judge what steps were taken by only women since gender was not part of the stats collected by the surveyors. According to this study, age plays a bigger role than gender when it comes to steps. The threshold for >60 year olds was 3000 steps while for <60 year olds was 5000 steps. However, the data does not account for age so there is no way of knowing how an elderly demographic might interact with Bellabeat [1].\n",
    "\n",
    "**Calories burnt:** According to our data, the average calories burnt was 2304, while 4900 was the maximum amount of calories. According to a **[Health Line article](https://www.healthline.com/health/fitness-exercise/how-many-calories-do-i-burn-a-day#_noHeaderPrefixedContent)** by Katey Davidson, women need burn about 1980 calories a day so the participants in the survey were definitely exceeding their goals.\n",
    "\n",
    "**Outliers:** There were several outliers which showed that an individual consistently had over 20,000 steps a day which could either be due to a recording error, a very athletic individual or some with a demanding job according to a **[Health Line article](https://www.healthline.com/health/average-steps-per-day#occupation\n",
    ")** by Adrienne Santos."
   ]
  },
  {
   "cell_type": "markdown",
   "id": "dcf1367a-0971-4a6e-b8eb-58b5761efca5",
   "metadata": {},
   "source": [
    "## **Step 5: SHARE**\n",
    "\n",
    "The goal of this stage is to create visualizations and communicate findings to the stakeholders. "
   ]
  },
  {
   "cell_type": "markdown",
   "id": "27238237-5fb8-4038-b9cb-0868d816c922",
   "metadata": {},
   "source": [
    "### **5.1 Steps per Day**\n",
    "\n",
    "The following graph compares the number of steps that are taken on each week day"
   ]
  },
  {
   "cell_type": "code",
   "execution_count": null,
   "id": "dc8f4cfb-125a-40b8-99c2-450feb13d5ed",
   "metadata": {},
   "outputs": [],
   "source": [
    "# create a bar chart of total steps by day of week \n",
    "ggplot(activity_df, aes(x = week_days, y = total_steps, fill = week_days)) +\n",
    "  geom_bar(stat = \"identity\") +\n",
    "\n",
    "  # add chart title, subtitle and caption\n",
    "  labs(x = \"Days of the Week\", y = \"Total Steps\", title = \"Total Steps by Day of the Week\",\n",
    "       subtitle = \"Sample of Fitbit Tracking Data from March 2016 to May 2016\",\n",
    "       caption = \"Data source: Amazon Mechanical Turk\") +\n",
    "\n",
    "  #customize chart theme \n",
    "  theme(plot.title = element_text(hjust = 0.5, size = 16, face = \"bold\"),\n",
    "        plot.subtitle = element_text(hjust = 0.5, size = 12),\n",
    "        plot.caption = element_text(hjust = 0.5, size = 8))"
   ]
  },
  {
   "cell_type": "markdown",
   "id": "1d75c8e0-959b-4a21-8bfb-3b00c07d6b49",
   "metadata": {},
   "source": [
    "**Insights**\n",
    "\n",
    "* The most steps were taken on Tuesdays which is contrary to assumptions that the most steps would be taken on traditional non-workdays like Saturdays and Sundays. Infact, Saturdays and Sundays represented the least amount of steps taken with Sundays being the least. \n",
    "\n",
    "* This indicates that most of the participants probably work demanding jobs that get busier during the middle of the weekd and then chose to rest on Sundays instead.  "
   ]
  },
  {
   "cell_type": "markdown",
   "id": "5de1d7cb-ac77-4117-aa79-cdcda4eb9c06",
   "metadata": {},
   "source": [
    "### **5.2 Calories burned per steps**\n",
    "\n",
    "The following graph compares calories burned to steps taken"
   ]
  },
  {
   "cell_type": "code",
   "execution_count": null,
   "id": "6fd69979-142c-49c7-81e4-f12fa7b6a6a6",
   "metadata": {},
   "outputs": [],
   "source": [
    "# create a scatter plot chart of total steps by calories\n",
    "ggplot(activity_df, aes(x = total_steps, y = calories)) +\n",
    "  geom_point(color = \"steel blue\") +\n",
    "\n",
    "  # add trendline\n",
    "  geom_smooth(method = \"lm\", se = FALSE, color = \"red\") +\n",
    "\n",
    "  # add chart title, subtitle and caption\n",
    "  labs(x = \"Total Steps\", y = \"Calories\", title = \"Total Steps vs. Calories Burned\",\n",
    "       subtitle = \"Sample of Fitbit Tracking Data from March 2016 to May 2016\",\n",
    "       caption = \"Data source: Amazon Mechanical Turk\") +\n",
    "\n",
    "  #customize chart theme \n",
    "  theme(plot.title = element_text(hjust = 0.5, size = 16, face = \"bold\"),\n",
    "        plot.subtitle = element_text(hjust = 0.5, size = 12),\n",
    "        plot.caption = element_text(hjust = 0.5, size = 8)) +\n",
    "  annotate(\"text\", x = 5000, y = 200, label = \"Note: Outlier data point at above 35,000 steps\",\n",
    "           size = 4, color = \"black\", hjust = 0)"
   ]
  },
  {
   "cell_type": "markdown",
   "id": "df7fe034-376f-496a-975f-a98a598c5a40",
   "metadata": {},
   "source": [
    "**Insights**\n",
    "\n",
    "* From the graph, we can see that there is a positive correlation between calories burnt and number of steps taken. This indicates that steps taken does have a positive effect on physical health.  \n",
    "\n",
    "* As mentioned earlier, there were several outliers in this number of daily steps taken by the participants of the survey. However, the graph shows that the max number of steps at 30,000 does not correspond with an increase in calories burnt but rather a sharp drop. This might be due to a faulty device, human error from self-reporting. "
   ]
  },
  {
   "cell_type": "markdown",
   "id": "4614f7a7-8a3f-45dd-91eb-b778bc2a9a16",
   "metadata": {},
   "source": [
    "### **5.3 Calories per Distance**\n",
    "\n",
    "The following graph compares the number of calories that are burnt per distance travelled by each participant. "
   ]
  },
  {
   "cell_type": "code",
   "execution_count": null,
   "id": "27e1970a-860e-48cb-8400-6003dbf0b848",
   "metadata": {},
   "outputs": [],
   "source": [
    "# create a scatter plot chart of total distance by calories\n",
    "ggplot(activity_df, aes(x = total_dist, y = calories)) +\n",
    "  geom_point(color = \"steel blue\") +\n",
    "\n",
    "  # add trendline \n",
    "  geom_smooth(method = \"lm\", se = FALSE, color = \"red\") +\n",
    "  \n",
    "  # add chart title, subtitle and caption\n",
    "  labs(x = \"Total Distance\", y = \"Calories\", title = \"Total Distance vs. Calories Burned\",\n",
    "       subtitle = \"Sample of Fitbit Tracking Data from March 2016 to May 2016\",\n",
    "       caption = \"Data source: Amazon Mechanical Turk\") +\n",
    " \n",
    "  #customize chart theme \n",
    "  theme(plot.title = element_text(hjust = 0.5, size = 16, face = \"bold\"),\n",
    "        plot.subtitle = element_text(hjust = 0.5, size = 12),\n",
    "        plot.caption = element_text(hjust = 0.5, size = 8))"
   ]
  },
  {
   "cell_type": "markdown",
   "id": "710cf75c-161d-4f16-99e3-4c82358e70e1",
   "metadata": {},
   "source": [
    "**Insights**\n",
    "\n",
    "* Similarly to the graph in section 5.2, there is a positive correlation between distance travelled and calories burned. This indicates that the more active an individual is, the more likely they are to improve their physical health. \n",
    "\n",
    "* Again there seems to be a significant outlier that bucks the trend of the data. This data point is at a similar position to the outlier in section 5.2 and thus, it can be concluded that this is most likely an error from the same user. "
   ]
  },
  {
   "cell_type": "markdown",
   "id": "0633eaee-fc76-4742-9e60-0d3c06b15807",
   "metadata": {},
   "source": [
    "### **5.4 Types of Activities**\n",
    "\n",
    "The following chart tries to ascertain the lifestyle/habits of the participants by comparing types of activity based on total time spent per activity. "
   ]
  },
  {
   "cell_type": "code",
   "execution_count": null,
   "id": "09c68027-6da0-47d7-9dab-d05edbf0fe74",
   "metadata": {},
   "outputs": [],
   "source": [
    "# create a pie chart of the percentage of mins spent per activity\n",
    "\n",
    "# calculate total minutes for each category \n",
    "total_very_active <- sum(activity_df$very_active_mins)\n",
    "total_fairly_active <- sum(activity_df$fairly_active_mins)\n",
    "total_lightly_active <- sum(activity_df$lightly_active_mins)\n",
    "total_sedentary <- sum(activity_df$sedentary_mins)\n",
    "total_mins <- sum(activity_df$total_mins)\n",
    "\n",
    "# calculate the percentage for each activity\n",
    "perc_very_mins <- round((total_very_active / total_mins * 100), 1)\n",
    "perc_fair_mins <- round((total_fairly_active / total_mins * 100), 1)\n",
    "perc_light_mins <- round((total_lightly_active / total_mins * 100), 1)\n",
    "perc_sed_mins <- round((total_sedentary / total_mins * 100), 1)\n",
    "\n",
    "# Define the data\n",
    "activity_levels <- c(\"Very Active\", \"Fairly Active\", \"Lightly Active\", \"Sedentary\")\n",
    "percentages <- c(perc_very_mins, perc_fair_mins, perc_light_mins, perc_sed_mins)\n",
    "\n",
    "# Create a data frame contain the activity level and percentages of time spent\n",
    "percent_df <- data.frame(activity_levels, percentages)\n",
    "\n",
    "# Create a pie chart using ggplot2\n",
    "ggplot(percent_df, aes(x = \"\", y = percentages, fill = activity_levels)) +\n",
    "  geom_bar(stat=\"identity\", width=1, color=\"black\") +\n",
    "  coord_polar(\"y\", start=0) +\n",
    "  \n",
    "  # add percentage labels using geom_text\n",
    "  geom_text(aes(label = paste0(percentages)),\n",
    "            position = position_stack(vjust = 0.5)) +\n",
    "\n",
    "  # add chart title, subtitle and caption            \n",
    "  labs(title = \"Percentage of Time spent per Activity\",\n",
    "       subtitle = \"Sample of Fitbit Tracking Data from March 2016 to May 2016\",\n",
    "       caption = \"Data source: Amazon Mechanical Turk\") +\n",
    " \n",
    "   #customize chart theme \n",
    "  theme_void() +\n",
    "  theme(legend.position = \"right\", \n",
    "        plot.title = element_text(hjust = 0.5, size = 16, face = \"bold\"),\n",
    "        plot.subtitle = element_text(hjust = 0.5, size = 12),\n",
    "        plot.caption = element_text(hjust = 0.5, size = 12)) +\n",
    "    \n",
    "  #customize fill colors  \n",
    "  scale_fill_manual(values = c(\"yellow\", \"orange\", \"red\", \"green\"))"
   ]
  },
  {
   "cell_type": "markdown",
   "id": "fd38c053-74af-4ebf-8643-c4e78ea13bbd",
   "metadata": {},
   "source": [
    "Since the data points are not really visible on the chart, let's pull up a table of the percentage. "
   ]
  },
  {
   "cell_type": "code",
   "execution_count": null,
   "id": "c57cb5e7-ee03-435e-b4ec-18fd0ea822fb",
   "metadata": {},
   "outputs": [],
   "source": [
    "# Create a data frame\n",
    "percent_df <- data.frame(activity_levels, percentages)"
   ]
  },
  {
   "cell_type": "markdown",
   "id": "ea988a65-6ed8-43a4-80af-c77572da8edf",
   "metadata": {},
   "source": [
    "**Insights**\n",
    "\n",
    "* Sedentary activities were the most type of activities with over 81.3%. This implies that most of the users were carrying out passive activities such as sitting or riding a car or bus.\n",
    "\n",
    "* Unfortunately, most participants were not really active which indicates the need for a change in exercise habits or lifestyles."
   ]
  },
  {
   "cell_type": "markdown",
   "id": "fccd1122-723a-4f75-aaf5-9cc86f4680e4",
   "metadata": {},
   "source": [
    "## **Step 6: ACT**\n",
    "\n",
    "The goal of this final stage is to summarize our insights and provide recommendations to the stakeholders based on our conclusions. "
   ]
  },
  {
   "cell_type": "markdown",
   "id": "6d63d5be-de77-4015-a887-5bf25b470f52",
   "metadata": {},
   "source": [
    " ### **6.1 Trends**\n",
    "\n",
    "* Users were most active during the middle of week and were less active on the weekends - perhaps because they are busiest at work during those times and rest on the weekends.\n",
    "\n",
    "* Users were significantly more prone to engaging in sedentary activities overall, which defeats the purpose of having a fitness product in the first place. \n",
    "\n",
    "* Regardless of a preference for sedentary activities, users were still meeting the average goal for steps in a day. "
   ]
  },
  {
   "cell_type": "markdown",
   "id": "27271882-b896-4b74-9512-700d45071b80",
   "metadata": {},
   "source": [
    "### **6.2 Relevance to Bellabeat**\n",
    "\n",
    "Both FitBit and Bellabeat are involved in the development and manufacturing of fitness products for women regardless of age or race. While Bellabeat is more focused towards women's health, both companies encourage their customers to pursue a healthier lifestyle and to make healthier decisions. "
   ]
  },
  {
   "cell_type": "markdown",
   "id": "78b616c8-9bbb-46c2-b4ae-b9dc7a9ceed8",
   "metadata": {},
   "source": [
    "### **6.3 Recommendations for Bellabeat**\n",
    "\n",
    "* The Bellabeat marketing team should create promotional and educational material that promotes the importance of hydration to women in demanding jobs as well. For example, they can promote the Spring water bottle as must-have accessory for women who might not remember to take adequate water breaks while at work.\n",
    "\n",
    "* The marketing team should also create promotional content that encourages women to be more active on weekends even if it is for only a short period of time. \n",
    "\n",
    "* Finally, the marketing team should create an advertising campaign that highlights the benefits of being an active woman. This campaign can focus on the Leaf and Time products as a focus point to women who may need that extra push to change their usual habits for the better.  "
   ]
  }
 ],
 "metadata": {
  "kernelspec": {
   "display_name": "R",
   "language": "R",
   "name": "ir"
  },
  "language_info": {
   "codemirror_mode": "r",
   "file_extension": ".r",
   "mimetype": "text/x-r-source",
   "name": "R",
   "pygments_lexer": "r",
   "version": "3.6.1"
  }
 },
 "nbformat": 4,
 "nbformat_minor": 5
}
